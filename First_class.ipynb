{
 "cells": [
  {
   "cell_type": "code",
   "execution_count": 1,
   "metadata": {},
   "outputs": [
    {
     "name": "stdout",
     "output_type": "stream",
     "text": [
      "this is my string\n",
      "THIS IS MY STRING\n",
      "This is my string\n"
     ]
    }
   ],
   "source": [
    "my_string = 'THIS IS MY STRING'\n",
    "\n",
    "print(my_string.lower())\n",
    "print(my_string.upper())\n",
    "print(my_string.capitalize())\n",
    "\n",
    "\n",
    "\n",
    "\n",
    "# dir(my_second_string)\n",
    "# print(my_second_string.capitalize())"
   ]
  },
  {
   "cell_type": "code",
   "execution_count": 1,
   "metadata": {},
   "outputs": [
    {
     "name": "stdout",
     "output_type": "stream",
     "text": [
      "This is my string\n",
      "is my\n"
     ]
    }
   ],
   "source": [
    "mydata = 'This is my string'\n",
    "\n",
    "word1, word2, word3, word4  =  mydata.split(' ')\n",
    "total = f'{word1} {word2} {word3} {word4}'\n",
    "\n",
    "print(total)\n",
    "print(total[5:10])"
   ]
  },
  {
   "cell_type": "code",
   "execution_count": 2,
   "metadata": {},
   "outputs": [
    {
     "name": "stdout",
     "output_type": "stream",
     "text": [
      "This is my string\n"
     ]
    }
   ],
   "source": [
    "my_string = ' this is my string '\n",
    "print(my_string.strip().capitalize())\n"
   ]
  },
  {
   "cell_type": "code",
   "execution_count": 3,
   "metadata": {},
   "outputs": [
    {
     "name": "stdout",
     "output_type": "stream",
     "text": [
      "This is my string\n"
     ]
    }
   ],
   "source": [
    "my_string = 'This-is-my-string'\n",
    "print(my_string.replace('-', ' '))"
   ]
  },
  {
   "cell_type": "code",
   "execution_count": null,
   "metadata": {},
   "outputs": [],
   "source": []
  }
 ],
 "metadata": {
  "kernelspec": {
   "display_name": "Python 3",
   "language": "python",
   "name": "python3"
  },
  "language_info": {
   "codemirror_mode": {
    "name": "ipython",
    "version": 3
   },
   "file_extension": ".py",
   "mimetype": "text/x-python",
   "name": "python",
   "nbconvert_exporter": "python",
   "pygments_lexer": "ipython3",
   "version": "3.6.5"
  }
 },
 "nbformat": 4,
 "nbformat_minor": 2
}
