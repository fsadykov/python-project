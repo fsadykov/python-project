{
 "cells": [
  {
   "cell_type": "markdown",
   "metadata": {},
   "source": [
    "## Task one \n",
    "1. Create a function call findDockerImages \n",
    "2. Add an argument to the function call repoName\n",
    "3. Run for loop to find all docker images from bellow link\n",
    "https://nexus.fuchicorp.com/service/rest/v1/components?repository=webplatform\n",
    "4. Make sure you right versions the repo result"
   ]
  },
  {
   "cell_type": "code",
   "execution_count": 4,
   "metadata": {},
   "outputs": [],
   "source": [
    "import requests\n",
    "\n",
    "def findDockerImages(repoName):\n",
    "    foundImages = []\n",
    "    url = 'https://nexus.fuchicorp.com/service/rest/v1/components?repository=webplatform'\n",
    "    mydata = requests.get(url).json()\n",
    "    for repo in mydata['items']:\n",
    "        if repoName in repo['name']:\n",
    "           foundImages.append(f'repo[\"name\"]:repo[\"version\"]')\n",
    "    return foundImages\n"
   ]
  },
  {
   "cell_type": "code",
   "execution_count": 5,
   "metadata": {},
   "outputs": [
    {
     "name": "stdout",
     "output_type": "stream",
     "text": [
      "['webplatform-dev', 'webplatform-dev', 'webplatform-dev', 'webplatform-dev', 'webplatform-dev']\n"
     ]
    }
   ],
   "source": [
    "print(findDockerImages('dev'))"
   ]
  },
  {
   "cell_type": "code",
   "execution_count": null,
   "metadata": {},
   "outputs": [],
   "source": []
  }
 ],
 "metadata": {
  "kernelspec": {
   "display_name": "Python 3",
   "language": "python",
   "name": "python3"
  },
  "language_info": {
   "codemirror_mode": {
    "name": "ipython",
    "version": 3
   },
   "file_extension": ".py",
   "mimetype": "text/x-python",
   "name": "python",
   "nbconvert_exporter": "python",
   "pygments_lexer": "ipython3",
   "version": "3.6.5"
  }
 },
 "nbformat": 4,
 "nbformat_minor": 2
}
