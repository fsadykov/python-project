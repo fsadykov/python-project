{
 "cells": [
  {
   "cell_type": "code",
   "execution_count": null,
   "metadata": {},
   "outputs": [],
   "source": [
    "print('Hello World')"
   ]
  },
  {
   "cell_type": "code",
   "execution_count": null,
   "metadata": {},
   "outputs": [],
   "source": [
    "var = True\n",
    "type(var)\n"
   ]
  },
  {
   "cell_type": "code",
   "execution_count": 59,
   "metadata": {},
   "outputs": [
    {
     "name": "stdout",
     "output_type": "stream",
     "text": [
      "['Abdul', 'Farkhod', 'Nodira', 'Anna', 'Anna', 'Anna', 'Zhanna']\n",
      "2\n"
     ]
    }
   ],
   "source": [
    "# bool str int float\n",
    "\n",
    "users = ['Abdul']\n",
    "users.append('Farkhod')\n",
    "users.append('Nodira')\n",
    "users.append('Anna')\n",
    "users.append('Anna')\n",
    "users.append('Anna')\n",
    "users.append('Zhanna')\n",
    "# print(users)\n",
    "# users.remove('Anna')\n",
    "print(users)\n",
    "print(users.index('Nodira'))\n",
    "foundIndex = users.index('Farkhod')\n",
    "users.pop(foundIndex)\n",
    "users.insert(1, 'user')\n",
    "\n"
   ]
  },
  {
   "cell_type": "code",
   "execution_count": 107,
   "metadata": {},
   "outputs": [
    {
     "name": "stdout",
     "output_type": "stream",
     "text": [
      "dict_keys(['type', 'color', 'count'])\n",
      "dict_values(['Fruit', 'Red', 1])\n",
      "{'username': 'fsadykov', 'firstname': 'Farkhod', 'lastname': 'Sadykov'}\n"
     ]
    },
    {
     "data": {
      "text/plain": [
       "['__class__',\n",
       " '__contains__',\n",
       " '__delattr__',\n",
       " '__delitem__',\n",
       " '__dir__',\n",
       " '__doc__',\n",
       " '__eq__',\n",
       " '__format__',\n",
       " '__ge__',\n",
       " '__getattribute__',\n",
       " '__getitem__',\n",
       " '__gt__',\n",
       " '__hash__',\n",
       " '__init__',\n",
       " '__init_subclass__',\n",
       " '__iter__',\n",
       " '__le__',\n",
       " '__len__',\n",
       " '__lt__',\n",
       " '__ne__',\n",
       " '__new__',\n",
       " '__reduce__',\n",
       " '__reduce_ex__',\n",
       " '__repr__',\n",
       " '__setattr__',\n",
       " '__setitem__',\n",
       " '__sizeof__',\n",
       " '__str__',\n",
       " '__subclasshook__',\n",
       " 'clear',\n",
       " 'copy',\n",
       " 'fromkeys',\n",
       " 'get',\n",
       " 'items',\n",
       " 'keys',\n",
       " 'pop',\n",
       " 'popitem',\n",
       " 'setdefault',\n",
       " 'update',\n",
       " 'values']"
      ]
     },
     "execution_count": 107,
     "metadata": {},
     "output_type": "execute_result"
    }
   ],
   "source": [
    "mydict = { 'type' : \"Fruit\", \"color\" : \"Orange\", } \n",
    "\n",
    "mydict['color'] = 'Red'\n",
    "mydict['count'] = 1 \n",
    "\n",
    "print(mydict.keys())\n",
    "print(mydict.values())\n",
    "\n",
    "user = dict(username='fsadykov', firstname='Farkhod', lastname='Sadykov')\n",
    "print(user)\n",
    "\n",
    "dir(user)"
   ]
  },
  {
   "cell_type": "code",
   "execution_count": null,
   "metadata": {},
   "outputs": [],
   "source": []
  }
 ],
 "metadata": {
  "kernelspec": {
   "display_name": "Python 3",
   "language": "python",
   "name": "python3"
  },
  "language_info": {
   "codemirror_mode": {
    "name": "ipython",
    "version": 3
   },
   "file_extension": ".py",
   "mimetype": "text/x-python",
   "name": "python",
   "nbconvert_exporter": "python",
   "pygments_lexer": "ipython3",
   "version": "3.6.5"
  }
 },
 "nbformat": 4,
 "nbformat_minor": 2
}
